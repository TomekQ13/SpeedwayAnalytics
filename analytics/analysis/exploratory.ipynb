{
 "metadata": {
  "language_info": {
   "codemirror_mode": {
    "name": "ipython",
    "version": 3
   },
   "file_extension": ".py",
   "mimetype": "text/x-python",
   "name": "python",
   "nbconvert_exporter": "python",
   "pygments_lexer": "ipython3",
   "version": "3.8.6"
  },
  "orig_nbformat": 2,
  "kernelspec": {
   "name": "python3",
   "display_name": "Python 3.8.6 64-bit ('analytics-KSLE3GME': pipenv)"
  },
  "metadata": {
   "interpreter": {
    "hash": "655c00307b78496406504c897169407bd253798d34e9ff72d95b693eca45f119"
   }
  },
  "interpreter": {
   "hash": "85a747758cc6ad95466528c2486f2a4ae3bc0c68ece00f17c27f1b37f11cd527"
  }
 },
 "nbformat": 4,
 "nbformat_minor": 2,
 "cells": [
  {
   "cell_type": "code",
   "execution_count": 1,
   "metadata": {},
   "outputs": [
    {
     "output_type": "stream",
     "name": "stderr",
     "text": [
      "C:\\Users\\kucza\\.virtualenvs\\analytics-KSLE3GME\\lib\\site-packages\\pandas\\core\\frame.py:4308: SettingWithCopyWarning: \nA value is trying to be set on a copy of a slice from a DataFrame\n\nSee the caveats in the documentation: https://pandas.pydata.org/pandas-docs/stable/user_guide/indexing.html#returning-a-view-versus-a-copy\n  return super().drop(\n"
     ]
    }
   ],
   "source": [
    "from sqlalchemy import create_engine\n",
    "from config import Config\n",
    "from pandas import read_sql\n",
    "from transformers import BinaryEncoder, CityExtractor, ColDropper, XYTrainTestSplitter, PredictionTransformer, Scorer\n",
    "import numpy as np\n",
    "\n",
    "eng = create_engine(Config.DATABASE_URI)\n",
    "car_heat = read_sql(sql='select * from car_heat', con=eng)\n",
    "\n",
    "#extract the time value so that it's a string and not python datetime object\n",
    "car_heat['time'] = [x.strftime(\"%H:%M\") for x in car_heat['time']]\n",
    "\n",
    "#drop columns which currently are not processed\n",
    "dropper = ColDropper()\n",
    "dropper.transform(data=car_heat, columns=['date', 'match_hash', 'heat_id', 'time', 'round', 'year', 'stadium'])\n",
    "\n",
    "#remove club names and change them to only cities to account for clubs changing sponsors and names as a result\n",
    "c_ex = CityExtractor()\n",
    "c_ex.transform(car_heat)\n",
    "\n",
    "#create binary variables for categorical columns\n",
    "encoder = BinaryEncoder()\n",
    "cat_cols = ['a_rider', 'b_rider', 'c_rider', 'd_rider', 'name_team_home', 'name_team_away']\n",
    "encoder.fit_transform(data=car_heat, columns=cat_cols)\n",
    "\n",
    "#split into X, Y, test and train\n",
    "splitter = XYTrainTestSplitter()\n",
    "X_train, Y_train, X_test, Y_test = splitter.transform(data=car_heat, y_columns = ['a_score','b_score','c_score','d_score'])"
   ]
  },
  {
   "cell_type": "code",
   "execution_count": 2,
   "metadata": {},
   "outputs": [
    {
     "output_type": "execute_result",
     "data": {
      "text/plain": [
       "MultiOutputRegressor(estimator=GradientBoostingRegressor())"
      ]
     },
     "metadata": {},
     "execution_count": 2
    }
   ],
   "source": [
    "from sklearn.ensemble import GradientBoostingRegressor\n",
    "from sklearn.multioutput import MultiOutputRegressor\n",
    "rfr = MultiOutputRegressor(GradientBoostingRegressor())\n",
    "rfr.fit(X_train, Y_train)"
   ]
  },
  {
   "cell_type": "code",
   "execution_count": 3,
   "metadata": {},
   "outputs": [],
   "source": [
    "pred = rfr.predict(X_test)"
   ]
  },
  {
   "cell_type": "code",
   "execution_count": 4,
   "metadata": {},
   "outputs": [],
   "source": [
    "pred_trans = PredictionTransformer()\n",
    "predictions = pred_trans.transform(pred)"
   ]
  },
  {
   "cell_type": "code",
   "execution_count": 5,
   "metadata": {},
   "outputs": [
    {
     "output_type": "execute_result",
     "data": {
      "text/plain": [
       "0.21164227265479102"
      ]
     },
     "metadata": {},
     "execution_count": 5
    }
   ],
   "source": [
    "rfr.score(X_test,Y_test)"
   ]
  },
  {
   "cell_type": "code",
   "execution_count": 6,
   "metadata": {},
   "outputs": [
    {
     "output_type": "execute_result",
     "data": {
      "text/plain": [
       "0.2543939617232893"
      ]
     },
     "metadata": {},
     "execution_count": 6
    }
   ],
   "source": [
    "rfr.score(X_train,Y_train)"
   ]
  },
  {
   "cell_type": "code",
   "execution_count": 7,
   "metadata": {},
   "outputs": [
    {
     "output_type": "execute_result",
     "data": {
      "text/plain": [
       "{'winner_correct_%': 45.375,\n",
       " 'all_correct_%': 14.3122,\n",
       " 'no_obs': 3773,\n",
       " 'winner_correct': 1712,\n",
       " 'all_correct': 540}"
      ]
     },
     "metadata": {},
     "execution_count": 7
    }
   ],
   "source": [
    "score = Scorer()\n",
    "score.score(predictions, Y_test)"
   ]
  },
  {
   "cell_type": "code",
   "execution_count": 8,
   "metadata": {},
   "outputs": [
    {
     "output_type": "execute_result",
     "data": {
      "text/plain": [
       "{'winner_correct_%': 49.028,\n",
       " 'all_correct_%': 15.7303,\n",
       " 'no_obs': 11214,\n",
       " 'winner_correct': 5498,\n",
       " 'all_correct': 1764}"
      ]
     },
     "metadata": {},
     "execution_count": 8
    }
   ],
   "source": [
    "Scorer().score(pred_trans.transform(rfr.predict(X_train)), Y_train)"
   ]
  },
  {
   "cell_type": "code",
   "execution_count": 9,
   "metadata": {},
   "outputs": [
    {
     "output_type": "execute_result",
     "data": {
      "text/plain": [
       "array([0.        , 0.        , 0.        , ..., 0.12305137, 0.13394094,\n",
       "       0.38045004])"
      ]
     },
     "metadata": {},
     "execution_count": 9
    }
   ],
   "source": [
    "np.sort(rfr.estimators_[1].feature_importances_)"
   ]
  },
  {
   "cell_type": "code",
   "execution_count": 34,
   "metadata": {},
   "outputs": [],
   "source": [
    "import sys\n",
    "np.set_printoptions(threshold=np.inf)"
   ]
  },
  {
   "cell_type": "code",
   "execution_count": 50,
   "metadata": {},
   "outputs": [
    {
     "output_type": "stream",
     "name": "stdout",
     "text": [
      "[2 3 0 2]\n[2 0 1 0]\n[0 2 0 1]\n[0 0 3 2]\n[0 3 0 1]\n[3 0 0 2]\n[0 1 2 0]\n[0 1 0 2]\n[3 1 0 0]\n[0 1 0 2]\n[0 0 1 3]\n[0 0 2 1]\n[0 1 2 0]\n[0 3 0 2]\n[0 1 0 2]\n[3 0 0 2]\n[0 3 0 0]\n[3 1 0 0]\n[0 1 3 0]\n[3 2 2 0]\n[0 3 1 0]\n[2 2 0 3]\n[0 2 2 3]\n[3 0 0 1]\n[2 0 1 0]\n[3 1 0 0]\n[2 2 0 3]\n[0 3 1 0]\n[3 0 0 1]\n[1 3 0 0]\n[0 2 3 0]\n[0 0 0 0]\n[3 0 0 2]\n[0 3 2 0]\n[2 3 0 0]\n[0 0 0 0]\n[3 0 2 0]\n[0 2 0 3]\n[2 0 3 0]\n[2 0 3 0]\n[0 0 3 2]\n[0 0 0 0]\n[2 0 0 3]\n[3 0 2 0]\n[3 0 2 0]\n[3 0 2 0]\n[3 0 2 0]\n[0 3 0 2]\n[3 0 2 0]\n[3 0 2 0]\n[0 2 0 3]\n[3 0 2 0]\n[2 0 3 0]\n[0 3 0 2]\n[2 0 0 3]\n[2 0 1 0]\n[0 3 1 0]\n[0 2 0 1]\n[2 3 0 0]\n[3 0 0 2]\n[2 0 3 0]\n[2 3 0 0]\n[0 0 3 2]\n[0 0 0 0]\n[0 0 0 0]\n[0 0 0 0]\n[0 2 0 3]\n[0 2 3 0]\n[0 2 3 0]\n[0 0 0 0]\n[0 0 0 0]\n[0 0 0 0]\n"
     ]
    }
   ],
   "source": [
    "stacked = np.column_stack((score.score_arr, predictions, np.array(Y_test)))\n",
    "stacked[np.where(stacked[:, 0] == 'all correct')]\n",
    "for pred in np.array(Y_test):\n",
    "    if sum(pred) != 6:\n",
    "        print(pred)\n",
    "\n",
    "#exclude these heats? "
   ]
  },
  {
   "cell_type": "code",
   "execution_count": 43,
   "metadata": {},
   "outputs": [
    {
     "output_type": "execute_result",
     "data": {
      "text/plain": [
       "array(['winner correct', '2', '1', '0', '3', '1', '0', '2', '3'],\n",
       "      dtype='<U21')"
      ]
     },
     "metadata": {},
     "execution_count": 43
    }
   ],
   "source": [
    "stacked[0]"
   ]
  },
  {
   "cell_type": "code",
   "execution_count": 26,
   "metadata": {
    "tags": []
   },
   "outputs": [
    {
     "output_type": "execute_result",
     "data": {
      "text/plain": [
       "array([[0.447, 'd_rider_point_year_avg_1'],\n",
       "       [0.0801, 'b_rider_point_year_avg_1'],\n",
       "       [0.0793, 'd_previous_points'],\n",
       "       ...,\n",
       "       [0.0, 'c_rider_Piotr_Pawlicki'],\n",
       "       [0.0, 'c_rider_Mirosław_Jabłoński'],\n",
       "       [0.0, 'c_rider_Rafał_Dobrucki']], dtype=object)"
      ]
     },
     "metadata": {},
     "execution_count": 26
    }
   ],
   "source": [
    "feat_imp = np.column_stack(( rfr.estimators_[3].feature_importances_.round(4), np.array(X_train.columns)))\n",
    "feat_imp[feat_imp[:, 0].argsort()[::-1]]"
   ]
  }
 ]
}