{
 "metadata": {
  "language_info": {
   "codemirror_mode": {
    "name": "ipython",
    "version": 3
   },
   "file_extension": ".py",
   "mimetype": "text/x-python",
   "name": "python",
   "nbconvert_exporter": "python",
   "pygments_lexer": "ipython3",
   "version": "3.8.6"
  },
  "orig_nbformat": 2,
  "kernelspec": {
   "name": "python386jvsc74a57bd085a747758cc6ad95466528c2486f2a4ae3bc0c68ece00f17c27f1b37f11cd527",
   "display_name": "Python 3.8.6 64-bit ('analytics-KSLE3GME': pipenv)"
  },
  "metadata": {
   "interpreter": {
    "hash": "655c00307b78496406504c897169407bd253798d34e9ff72d95b693eca45f119"
   }
  }
 },
 "nbformat": 4,
 "nbformat_minor": 2,
 "cells": [
  {
   "cell_type": "code",
   "execution_count": 1,
   "metadata": {},
   "outputs": [],
   "source": [
    "from sqlalchemy import create_engine\n",
    "from config import Config"
   ]
  },
  {
   "cell_type": "code",
   "execution_count": 20,
   "metadata": {},
   "outputs": [],
   "source": [
    "r = eng.execute('select * from if_heat')"
   ]
  },
  {
   "cell_type": "code",
   "execution_count": 3,
   "metadata": {},
   "outputs": [],
   "source": [
    "eng = create_engine(Config.DATABASE_URI)"
   ]
  },
  {
   "cell_type": "code",
   "execution_count": 21,
   "metadata": {
    "tags": [
     "outputPrepend"
    ]
   },
   "outputs": [
    {
     "output_type": "stream",
     "name": "stdout",
     "text": [
      "'68508069c943b5b7b0ee98c0a08cf68fb4bfc7c21b08c73d04dcb63c793b1374', 10, 'Norbert Krakowiak', '1', 'Bartosz Smektała', '2', 'Patryk Dudek', '0', 'Jaimon Lidsey', '3', datetime.datetime(2021, 6, 6, 16, 27, 16, 414885))\n",
      "(34071, '68508069c943b5b7b0ee98c0a08cf68fb4bfc7c21b08c73d04dcb63c793b1374', 11, 'Jaimon Lidsey', '1', 'Piotr Protasiewicz', '3', 'Emil Sayfutdinov', '2', 'Rohan Tungate', '0', datetime.datetime(2021, 6, 6, 16, 27, 17, 99152))\n",
      "(34072, '68508069c943b5b7b0ee98c0a08cf68fb4bfc7c21b08c73d04dcb63c793b1374', 12, 'Martin Vaculik', '3', 'Dominik Kubera', '1', 'Mateusz Tonder', '0', 'Bartosz Smektała', '2', datetime.datetime(2021, 6, 6, 16, 27, 17, 792057))\n",
      "(34073, '68508069c943b5b7b0ee98c0a08cf68fb4bfc7c21b08c73d04dcb63c793b1374', 13, 'Janusz Kołodziej', '2', 'Patryk Dudek', '0', 'Piotr Pawlicki', '3', 'Michael Jepsen Jensen', '1', datetime.datetime(2021, 6, 6, 16, 27, 18, 377116))\n",
      "(34074, '68508069c943b5b7b0ee98c0a08cf68fb4bfc7c21b08c73d04dcb63c793b1374', 14, 'Michael Jepsen Jensen', '2', 'Bartosz Smektała', '3', 'Rohan Tungate', '0', 'Janusz Kołodziej', '1', datetime.datetime(2021, 6, 6, 16, 27, 18, 991084))\n",
      "(34075, '68508069c943b5b7b0ee98c0a08cf68fb4bfc7c21b08c73d04dcb63c793b1374', 15, 'Dominik Kubera', 'D', 'Piotr Protasiewicz', '3', 'Szymon Szlauderbach', '1', 'Martin Vaculik', '2', datetime.datetime(2021, 6, 6, 16, 27, 19, 610695))\n",
      "(34076, 'c5c4846a851f66c56bcb61afcb59a8feb64e86bfbd93f202f311f677f9621603', 1, 'Maciej Janowski', '2', 'Szymon Woźniak', '3', 'Daniel Bewley', '0', 'Niels Kristian Iversen', '1', datetime.datetime(2021, 6, 6, 16, 27, 25, 364720))\n",
      "(34077, 'c5c4846a851f66c56bcb61afcb59a8feb64e86bfbd93f202f311f677f9621603', 2, 'Rafał Karczmarz', '', 'Gleb Chugunov', 'W', 'Wiktor Jasiński', '', 'Michał Curzytek', '', datetime.datetime(2021, 6, 6, 16, 27, 26, 231707))\n",
      "(34078, 'c5c4846a851f66c56bcb61afcb59a8feb64e86bfbd93f202f311f677f9621603', 2, 'Rafał Karczmarz', '', 'Gleb Chugunov', '-', 'Wiktor Jasiński', '', 'Michał Curzytek', '', datetime.datetime(2021, 6, 6, 16, 27, 27, 119478))\n",
      "(34079, 'c5c4846a851f66c56bcb61afcb59a8feb64e86bfbd93f202f311f677f9621603', 2, 'Rafał Karczmarz', '3', 'Gleb Chugunov', '-', 'Wiktor Jasiński', '2', 'Michał Curzytek', '1', datetime.datetime(2021, 6, 6, 16, 27, 28, 27803))\n",
      "(34080, 'c5c4846a851f66c56bcb61afcb59a8feb64e86bfbd93f202f311f677f9621603', 3, 'Tai Woffinden', '3', 'Anders Thomsen', '2', 'Chris Holder', '1', 'Jack Holder', 'U', datetime.datetime(2021, 6, 6, 16, 27, 28, 786424))\n",
      "(34081, 'c5c4846a851f66c56bcb61afcb59a8feb64e86bfbd93f202f311f677f9621603', 4, 'Wiktor Jasiński', '2', 'Max Fricke', '1', 'Bartosz Zmarzlik', '3', 'Gleb Chugunov', 'M', datetime.datetime(2021, 6, 6, 16, 27, 29, 461799))\n",
      "(34082, 'c5c4846a851f66c56bcb61afcb59a8feb64e86bfbd93f202f311f677f9621603', 5, 'Niels Kristian Iversen', '1', 'Tai Woffinden', '3', 'Anders Thomsen', '2', 'Max Fricke', '0', datetime.datetime(2021, 6, 6, 16, 27, 30, 140563))\n",
      "(34083, 'c5c4846a851f66c56bcb61afcb59a8feb64e86bfbd93f202f311f677f9621603', 6, 'Jack Holder', '1', 'Chris Holder', '2', 'Rafał Karczmarz', '0', 'Maciej Janowski', '3', datetime.datetime(2021, 6, 6, 16, 27, 31, 227242))\n",
      "(34084, 'c5c4846a851f66c56bcb61afcb59a8feb64e86bfbd93f202f311f677f9621603', 7, 'Michał Curzytek', '0', 'Bartosz Zmarzlik', '3', 'Tai Woffinden', '2', 'Szymon Woźniak', '1', datetime.datetime(2021, 6, 6, 16, 27, 31, 929076))\n",
      "(34085, 'c5c4846a851f66c56bcb61afcb59a8feb64e86bfbd93f202f311f677f9621603', 8, 'Maciej Janowski', '3', 'Jack Holder', '2', 'Max Fricke', '1', 'Wiktor Jasiński', '0', datetime.datetime(2021, 6, 6, 16, 27, 32, 682952))\n",
      "(34086, 'c5c4846a851f66c56bcb61afcb59a8feb64e86bfbd93f202f311f677f9621603', 9, 'Szymon Woźniak', '2', 'Maciej Janowski', '0', 'Bartosz Zmarzlik', '3', 'Chris Holder', '1', datetime.datetime(2021, 6, 6, 16, 27, 33, 428203))\n",
      "(34087, 'c5c4846a851f66c56bcb61afcb59a8feb64e86bfbd93f202f311f677f9621603', 10, 'Michał Curzytek', 'W', 'Niels Kristian Iversen', 'W', 'Tai Woffinden', '2', 'Anders Thomsen', '3', datetime.datetime(2021, 6, 6, 16, 27, 34, 168469))\n",
      "(34088, 'c5c4846a851f66c56bcb61afcb59a8feb64e86bfbd93f202f311f677f9621603', 11, 'Anders Thomsen', '2', 'Max Fricke', '1', 'Szymon Woźniak', '3', 'Maciej Janowski', '0', datetime.datetime(2021, 6, 6, 16, 27, 34, 883167))\n",
      "(34089, 'c5c4846a851f66c56bcb61afcb59a8feb64e86bfbd93f202f311f677f9621603', 12, 'Chris Holder', '3', 'Rafał Karczmarz', '0', 'Michał Curzytek', '2', 'Wiktor Jasiński', '1', datetime.datetime(2021, 6, 6, 16, 27, 35, 627504))\n",
      "(34090, 'c5c4846a851f66c56bcb61afcb59a8feb64e86bfbd93f202f311f677f9621603', 13, 'Bartosz Zmarzlik', '3', 'Chris Holder', '1', 'Jack Holder', '2', 'Daniel Bewley', '0', datetime.datetime(2021, 6, 6, 16, 27, 36, 361663))\n",
      "(34091, 'c5c4846a851f66c56bcb61afcb59a8feb64e86bfbd93f202f311f677f9621603', 14, 'Michał Curzytek', '0', 'Jack Holder', '3', 'Max Fricke', '1', 'Anders Thomsen', '2', datetime.datetime(2021, 6, 6, 16, 27, 37, 115065))\n",
      "(34092, 'c5c4846a851f66c56bcb61afcb59a8feb64e86bfbd93f202f311f677f9621603', 15, 'Bartosz Zmarzlik', '3', 'Maciej Janowski', '1', 'Szymon Woźniak', '2', 'Chris Holder', '0', datetime.datetime(2021, 6, 6, 16, 27, 37, 875171))\n",
      "(34093, '8b496388308e8c9f82484a3624f7f2d609636d56db3ceb6b83a0c34dda971505', 1, 'Rohan Tungate', '3', 'Max Fricke', '2', 'Piotr Protasiewicz', '0', 'Chris Holder', '1', datetime.datetime(2021, 6, 6, 16, 27, 42, 924201))\n",
      "(34094, '8b496388308e8c9f82484a3624f7f2d609636d56db3ceb6b83a0c34dda971505', 2, 'Gleb Chugunov', 'W', 'Norbert Krakowiak', 'u', 'Michał Curzytek', 'u', 'Mateusz Tonder', '', datetime.datetime(2021, 6, 6, 16, 27, 43, 587157))\n",
      "(34095, '8b496388308e8c9f82484a3624f7f2d609636d56db3ceb6b83a0c34dda971505', 2, 'Gleb Chugunov', '-', 'Norbert Krakowiak', '-', 'Michał Curzytek', 'D', 'Mateusz Tonder', '3', datetime.datetime(2021, 6, 6, 16, 27, 44, 323248))\n",
      "(34096, '8b496388308e8c9f82484a3624f7f2d609636d56db3ceb6b83a0c34dda971505', 3, 'Michael Jepsen Jensen', '2', 'Maciej Janowski', '3', 'Patryk Dudek', '0', 'Max Fricke', '1', datetime.datetime(2021, 6, 6, 16, 27, 45, 144810))\n",
      "(34097, '8b496388308e8c9f82484a3624f7f2d609636d56db3ceb6b83a0c34dda971505', 4, 'Daniel Bewley', '2', 'Mateusz Tonder', '0', 'Gleb Chugunov', '1', 'Martin Vaculik', '3', datetime.datetime(2021, 6, 6, 16, 27, 45, 832774))\n",
      "(34098, '8b496388308e8c9f82484a3624f7f2d609636d56db3ceb6b83a0c34dda971505', 5, 'Chris Holder', '3', 'Jan Kvech', 'U', 'Daniel Bewley', '2', 'Michael Jepsen Jensen', '1', datetime.datetime(2021, 6, 6, 16, 27, 46, 569220))\n",
      "(34099, '8b496388308e8c9f82484a3624f7f2d609636d56db3ceb6b83a0c34dda971505', 6, 'Max Fricke', '3', 'Patryk Dudek', '2', 'Chris Holder', '0', 'Mateusz Tonder', '1', datetime.datetime(2021, 6, 6, 16, 27, 47, 312618))\n",
      "(34100, '8b496388308e8c9f82484a3624f7f2d609636d56db3ceb6b83a0c34dda971505', 7, 'Martin Vaculik', '', 'Michał Curzytek', 'W', 'Rohan Tungate', '', 'Maciej Janowski', '', datetime.datetime(2021, 6, 6, 16, 27, 48, 26294))\n",
      "(34101, '8b496388308e8c9f82484a3624f7f2d609636d56db3ceb6b83a0c34dda971505', 7, 'Martin Vaculik', '3', 'Michał Curzytek', '-', 'Rohan Tungate', '2', 'Maciej Janowski', '1', datetime.datetime(2021, 6, 6, 16, 27, 49, 31592))\n",
      "(34102, '8b496388308e8c9f82484a3624f7f2d609636d56db3ceb6b83a0c34dda971505', 8, 'Patryk Dudek', '3', 'Chris Holder', '0', 'Mateusz Tonder', '1', 'Daniel Bewley', '2', datetime.datetime(2021, 6, 6, 16, 27, 49, 667245))\n",
      "(34103, '8b496388308e8c9f82484a3624f7f2d609636d56db3ceb6b83a0c34dda971505', 9, 'Daniel Bewley', '3', 'Rohan Tungate', '2', 'Max Fricke', '1', 'Martin Vaculik', '0', datetime.datetime(2021, 6, 6, 16, 27, 50, 309647))\n",
      "(34104, '8b496388308e8c9f82484a3624f7f2d609636d56db3ceb6b83a0c34dda971505', 10, 'Piotr Protasiewicz', 'u', 'Gleb Chugunov', '', 'Michael Jepsen Jensen', '', 'Maciej Janowski', 'W', datetime.datetime(2021, 6, 6, 16, 27, 50, 945532))\n",
      "(34105, '8b496388308e8c9f82484a3624f7f2d609636d56db3ceb6b83a0c34dda971505', 10, 'Piotr Protasiewicz', '2', 'Gleb Chugunov', '1', 'Michael Jepsen Jensen', '3', 'Maciej Janowski', '-', datetime.datetime(2021, 6, 6, 16, 27, 51, 644416))\n",
      "(34106, '8b496388308e8c9f82484a3624f7f2d609636d56db3ceb6b83a0c34dda971505', 11, 'Daniel Bewley', '3', 'Michael Jepsen Jensen', '2', 'Gleb Chugunov', '0', 'Rohan Tungate', '1', datetime.datetime(2021, 6, 6, 16, 27, 52, 286670))\n",
      "(34107, '8b496388308e8c9f82484a3624f7f2d609636d56db3ceb6b83a0c34dda971505', 12, 'Mateusz Tonder', '1', 'Max Fricke', '3', 'Piotr Protasiewicz', '2', 'Michał Curzytek', 'M', datetime.datetime(2021, 6, 6, 16, 27, 52, 907494))\n",
      "(34108, '8b496388308e8c9f82484a3624f7f2d609636d56db3ceb6b83a0c34dda971505', 13, 'Maciej Janowski', '', 'Martin Vaculik', '', 'Chris Holder', '', 'Patryk Dudek', '', datetime.datetime(2021, 6, 6, 16, 27, 53, 462596))\n",
      "(34109, '8b496388308e8c9f82484a3624f7f2d609636d56db3ceb6b83a0c34dda971505', 14, '-', '', '-', '', '-', '', '-', '', datetime.datetime(2021, 6, 6, 16, 27, 54, 25625))\n",
      "(34110, '8b496388308e8c9f82484a3624f7f2d609636d56db3ceb6b83a0c34dda971505', 15, '-', '', '-', '', '-', '', '-', '', datetime.datetime(2021, 6, 6, 16, 27, 54, 543471))\n",
      "(34111, '3d9ed570c39b760872299bd8f8786341b4b043653e2592877bf1abebeee05a2b', 1, 'Chris Holder', '3', 'Michael Jepsen Jensen', '0', 'Max Fricke', '1', 'Rohan Tungate', '2', datetime.datetime(2021, 6, 6, 16, 27, 58, 966889))\n",
      "(34112, '3d9ed570c39b760872299bd8f8786341b4b043653e2592877bf1abebeee05a2b', 2, 'Damian Pawliczak', '3', 'Michał Curzytek', '0', 'Mateusz Tonder', '1', 'Gleb Chugunov', '2', datetime.datetime(2021, 6, 6, 16, 27, 59, 632294))\n",
      "(34113, '3d9ed570c39b760872299bd8f8786341b4b043653e2592877bf1abebeee05a2b', 3, 'Max Fricke', '2', 'Patryk Dudek', '0', 'Maciej Janowski', '1', 'Martin Vaculik', '3', datetime.datetime(2021, 6, 6, 16, 28, 0, 315280))\n",
      "(34114, '3d9ed570c39b760872299bd8f8786341b4b043653e2592877bf1abebeee05a2b', 4, 'Piotr Protasiewicz', '3', 'Gleb Chugunov', '1', 'Damian Pawliczak', '0', 'Daniel Bewley', '2', datetime.datetime(2021, 6, 6, 16, 28, 1, 55374))\n",
      "(34115, '3d9ed570c39b760872299bd8f8786341b4b043653e2592877bf1abebeee05a2b', 5, 'Rohan Tungate', '0', 'Chris Holder', '3', 'Piotr Protasiewicz', '1', 'Max Fricke', '2', datetime.datetime(2021, 6, 6, 16, 28, 2, 76858))\n",
      "(34116, '3d9ed570c39b760872299bd8f8786341b4b043653e2592877bf1abebeee05a2b', 6, 'Martin Vaculik', '3', 'Maciej Janowski', '2', 'Michael Jepsen Jensen', '1', 'Michał Curzytek', '0', datetime.datetime(2021, 6, 6, 16, 28, 2, 578367))\n",
      "(34117, '3d9ed570c39b760872299bd8f8786341b4b043653e2592877bf1abebeee05a2b', 7, 'Daniel Bewley', '2', 'Mateusz Tonder', '0', 'Chris Holder', '3', 'Patryk Dudek', '1', datetime.datetime(2021, 6, 6, 16, 28, 3, 119202))\n",
      "(34118, '3d9ed570c39b760872299bd8f8786341b4b043653e2592877bf1abebeee05a2b', 8, 'Maciej Janowski', '1', 'Martin Vaculik', '3', 'Gleb Chugunov', '2', 'Piotr Protasiewicz', '0', datetime.datetime(2021, 6, 6, 16, 28, 3, 737211))\n",
      "(34119, '3d9ed570c39b760872299bd8f8786341b4b043653e2592877bf1abebeee05a2b', 9, 'Michael Jepsen Jensen', '0', 'Chris Holder', '2', 'Martin Vaculik', '3', 'Daniel Bewley', '1', datetime.datetime(2021, 6, 6, 16, 28, 4, 356575))\n",
      "(34120, '3d9ed570c39b760872299bd8f8786341b4b043653e2592877bf1abebeee05a2b', 10, 'Maciej Janowski', '3', 'Damian Pawliczak', '0', 'Max Fricke', '2', 'Patryk Dudek', '1', datetime.datetime(2021, 6, 6, 16, 28, 5, 31760))\n",
      "(34121, '3d9ed570c39b760872299bd8f8786341b4b043653e2592877bf1abebeee05a2b', 11, 'Piotr Protasiewicz', '1', 'Max Fricke', '2', 'Rohan Tungate', '0', 'Chris Holder', '3', datetime.datetime(2021, 6, 6, 16, 28, 5, 774041))\n",
      "(34122, '3d9ed570c39b760872299bd8f8786341b4b043653e2592877bf1abebeee05a2b', 12, 'Michał Curzytek', '', 'Martin Vaculik', '', 'Gleb Chugunov', '', 'Mateusz Tonder', '', datetime.datetime(2021, 6, 6, 16, 28, 6, 474942))\n",
      "(34123, '3d9ed570c39b760872299bd8f8786341b4b043653e2592877bf1abebeee05a2b', 12, 'Michał Curzytek', '0', 'Martin Vaculik', '3', 'Gleb Chugunov', '2', 'Mateusz Tonder', '1', datetime.datetime(2021, 6, 6, 16, 28, 7, 132161))\n",
      "(34124, '3d9ed570c39b760872299bd8f8786341b4b043653e2592877bf1abebeee05a2b', 13, 'Patryk Dudek', 'D', 'Daniel Bewley', '3', 'Rohan Tungate', '1', 'Maciej Janowski', '2', datetime.datetime(2021, 6, 6, 16, 28, 7, 839640))\n",
      "(34125, '3d9ed570c39b760872299bd8f8786341b4b043653e2592877bf1abebeee05a2b', 14, 'Maciej Janowski', '2', 'Mateusz Tonder', '3', 'Daniel Bewley', '0', 'Damian Pawliczak', '1', datetime.datetime(2021, 6, 6, 16, 28, 8, 561194))\n",
      "(34126, '3d9ed570c39b760872299bd8f8786341b4b043653e2592877bf1abebeee05a2b', 15, 'Martin Vaculik', '3', 'Chris Holder', '0', 'Piotr Protasiewicz', '2', 'Max Fricke', '1', datetime.datetime(2021, 6, 6, 16, 28, 9, 263158))\n",
      "(34127, 'be869f3dcd4ffb9ad5ec52820c7fdbece3fd926118b739ada82ee50d9965c8c8', 1, 'Szymon Woźniak', '3', 'Emil Sayfutdinov', '2', 'Jack Holder', '0', 'Bartosz Smektała', '1', datetime.datetime(2021, 6, 6, 16, 28, 13, 674762))\n",
      "(34128, 'be869f3dcd4ffb9ad5ec52820c7fdbece3fd926118b739ada82ee50d9965c8c8', 2, 'Dominik Kubera', '2', 'Rafał Karczmarz', '1', 'Szymon Szlauderbach', '3', 'Wiktor Jasiński', '0', datetime.datetime(2021, 6, 6, 16, 28, 14, 407377))\n",
      "(34129, 'be869f3dcd4ffb9ad5ec52820c7fdbece3fd926118b739ada82ee50d9965c8c8', 3, 'Krzysztof Kasprzak', '0', 'Piotr Pawlicki', '2', 'Anders Thomsen', '1', 'Janusz Kołodziej', '3', datetime.datetime(2021, 6, 6, 16, 28, 15, 251063))\n",
      "(34130, 'be869f3dcd4ffb9ad5ec52820c7fdbece3fd926118b739ada82ee50d9965c8c8', 4, 'Jaimon Lidsey', '1', 'Wiktor Jasiński', '0', 'Dominik Kubera', '2', 'Bartosz Zmarzlik', '3', datetime.datetime(2021, 6, 6, 16, 28, 15, 990041))\n",
      "(34131, 'be869f3dcd4ffb9ad5ec52820c7fdbece3fd926118b739ada82ee50d9965c8c8', 5, 'Bartosz Smektała', '1', 'Jack Holder', '2', 'Jaimon Lidsey', '0', 'Bartosz Zmarzlik', '3', datetime.datetime(2021, 6, 6, 16, 28, 16, 681832))\n",
      "(34132, 'be869f3dcd4ffb9ad5ec52820c7fdbece3fd926118b739ada82ee50d9965c8c8', 6, 'Janusz Kołodziej', '2', 'Anders Thomsen', '1', 'Emil Sayfutdinov', '3', 'Rafał Karczmarz', '0', datetime.datetime(2021, 6, 6, 16, 28, 17, 385405))\n",
      "(34133, 'be869f3dcd4ffb9ad5ec52820c7fdbece3fd926118b739ada82ee50d9965c8c8', 7, 'Bartosz Zmarzlik', '3', 'Szymon Szlauderbach', '0', 'Szymon Woźniak', '1', 'Piotr Pawlicki', '2', datetime.datetime(2021, 6, 6, 16, 28, 18, 73612))\n",
      "(34134, 'be869f3dcd4ffb9ad5ec52820c7fdbece3fd926118b739ada82ee50d9965c8c8', 8, 'Anders Thomsen', '', 'Bartosz Smektała', '', 'Wiktor Jasiński', 'W', 'Jaimon Lidsey', 'u', datetime.datetime(2021, 6, 6, 16, 28, 18, 791821))\n",
      "(34135, 'be869f3dcd4ffb9ad5ec52820c7fdbece3fd926118b739ada82ee50d9965c8c8', 8, 'Anders Thomsen', '3', 'Bartosz Smektała', '2', 'Wiktor Jasiński', '-', 'Jaimon Lidsey', '1', datetime.datetime(2021, 6, 6, 16, 28, 19, 728608))\n",
      "(34136, 'be869f3dcd4ffb9ad5ec52820c7fdbece3fd926118b739ada82ee50d9965c8c8', 9, 'Emil Sayfutdinov', '1', 'Szymon Woźniak', '0', 'Janusz Kołodziej', '3', 'Bartosz Zmarzlik', '2', datetime.datetime(2021, 6, 6, 16, 28, 20, 265798))\n",
      "(34137, 'be869f3dcd4ffb9ad5ec52820c7fdbece3fd926118b739ada82ee50d9965c8c8', 10, 'Jack Holder', '2', 'Dominik Kubera', '0', 'Szymon Woźniak', '3', 'Piotr Pawlicki', '1', datetime.datetime(2021, 6, 6, 16, 28, 20, 845377))\n",
      "(34138, 'be869f3dcd4ffb9ad5ec52820c7fdbece3fd926118b739ada82ee50d9965c8c8', 11, 'Jaimon Lidsey', '2', 'Krzysztof Kasprzak', '0', 'Emil Sayfutdinov', '3', 'Szymon Woźniak', '1', datetime.datetime(2021, 6, 6, 16, 28, 21, 444824))\n",
      "(34139, 'be869f3dcd4ffb9ad5ec52820c7fdbece3fd926118b739ada82ee50d9965c8c8', 12, 'Rafał Karczmarz', '0', 'Janusz Kołodziej', '2', 'Jack Holder', '3', 'Szymon Szlauderbach', '1', datetime.datetime(2021, 6, 6, 16, 28, 22, 130026))\n",
      "(34140, 'be869f3dcd4ffb9ad5ec52820c7fdbece3fd926118b739ada82ee50d9965c8c8', 13, 'Piotr Pawlicki', '1', 'Bartosz Zmarzlik', '2', 'Bartosz Smektała', '0', 'Anders Thomsen', '3', datetime.datetime(2021, 6, 6, 16, 28, 22, 759931))\n",
      "(34141, 'be869f3dcd4ffb9ad5ec52820c7fdbece3fd926118b739ada82ee50d9965c8c8', 14, 'Szymon Woźniak', '2', 'Piotr Pawlicki', '1', 'Jack Holder', '3', 'Jaimon Lidsey', '0', datetime.datetime(2021, 6, 6, 16, 28, 23, 367084))\n",
      "(34142, 'be869f3dcd4ffb9ad5ec52820c7fdbece3fd926118b739ada82ee50d9965c8c8', 15, 'Emil Sayfutdinov', '0', 'Bartosz Zmarzlik', '3', 'Janusz Kołodziej', '2', 'Anders Thomsen', '1', datetime.datetime(2021, 6, 6, 16, 28, 23, 925443))\n",
      "(34143, '3b5d1ef836db07fc1a6373deaf812a99fa52a56bd45d0fb271fd4c019cf0f97d', 1, 'Emil Sayfutdinov', '3', 'Krzysztof Kasprzak', '1', 'Bartosz Smektała', '2', 'Szymon Woźniak', '0', datetime.datetime(2021, 6, 6, 16, 28, 30, 608061))\n",
      "(34144, '3b5d1ef836db07fc1a6373deaf812a99fa52a56bd45d0fb271fd4c019cf0f97d', 2, 'Rafał Karczmarz', '2', 'Dominik Kubera', '3', 'Wiktor Jasiński', '0', 'Szymon Szlauderbach', '1', datetime.datetime(2021, 6, 6, 16, 28, 31, 284514))\n",
      "(34145, '3b5d1ef836db07fc1a6373deaf812a99fa52a56bd45d0fb271fd4c019cf0f97d', 3, 'Jaimon Lidsey', '2', 'Anders Thomsen', '0', 'Piotr Pawlicki', '3', 'Jack Holder', '1', datetime.datetime(2021, 6, 6, 16, 28, 31, 972171))\n",
      "(34146, '3b5d1ef836db07fc1a6373deaf812a99fa52a56bd45d0fb271fd4c019cf0f97d', 4, 'Bartosz Zmarzlik', '1', 'Szymon Szlauderbach', '0', 'Rafał Karczmarz', '2', 'Janusz Kołodziej', '3', datetime.datetime(2021, 6, 6, 16, 28, 32, 619976))\n",
      "(34147, '3b5d1ef836db07fc1a6373deaf812a99fa52a56bd45d0fb271fd4c019cf0f97d', 5, 'Szymon Woźniak', '1', 'Bartosz Smektała', '3', 'Bartosz Zmarzlik', '0', 'Jaimon Lidsey', '2', datetime.datetime(2021, 6, 6, 16, 28, 33, 285890))\n",
      "(34148, '3b5d1ef836db07fc1a6373deaf812a99fa52a56bd45d0fb271fd4c019cf0f97d', 6, 'Jack Holder', '3', 'Piotr Pawlicki', '2', 'Krzysztof Kasprzak', '0', 'Dominik Kubera', '1', datetime.datetime(2021, 6, 6, 16, 28, 33, 953789))\n",
      "(34149, '3b5d1ef836db07fc1a6373deaf812a99fa52a56bd45d0fb271fd4c019cf0f97d', 7, 'Janusz Kołodziej', '2', 'Rafał Karczmarz', '0', 'Emil Sayfutdinov', '3', 'Anders Thomsen', '1', datetime.datetime(2021, 6, 6, 16, 28, 34, 634623))\n",
      "(34150, '3b5d1ef836db07fc1a6373deaf812a99fa52a56bd45d0fb271fd4c019cf0f97d', 8, 'Piotr Pawlicki', '3', 'Szymon Woźniak', '1', 'Szymon Szlauderbach', '0', 'Bartosz Zmarzlik', '2', datetime.datetime(2021, 6, 6, 16, 28, 35, 370932))\n",
      "(34151, '3b5d1ef836db07fc1a6373deaf812a99fa52a56bd45d0fb271fd4c019cf0f97d', 9, 'Bartosz Zmarzlik', '0', 'Emil Sayfutdinov', '3', 'Jack Holder', '2', 'Janusz Kołodziej', '1', datetime.datetime(2021, 6, 6, 16, 28, 36, 512802))\n",
      "(34152, '3b5d1ef836db07fc1a6373deaf812a99fa52a56bd45d0fb271fd4c019cf0f97d', 10, 'Bartosz Smektała', '2', 'Rafał Karczmarz', '3', 'Jaimon Lidsey', '0', 'Anders Thomsen', '1', datetime.datetime(2021, 6, 6, 16, 28, 37, 214562))\n",
      "(34153, '3b5d1ef836db07fc1a6373deaf812a99fa52a56bd45d0fb271fd4c019cf0f97d', 11, 'Bartosz Zmarzlik', '', 'Jaimon Lidsey', '', 'Jack Holder', 'W', 'Emil Sayfutdinov', '', datetime.datetime(2021, 6, 6, 16, 28, 37, 939720))\n",
      "(34154, '3b5d1ef836db07fc1a6373deaf812a99fa52a56bd45d0fb271fd4c019cf0f97d', 11, 'Bartosz Zmarzlik', 'W', 'Jaimon Lidsey', 'u', 'Jack Holder', '-', 'Emil Sayfutdinov', '', datetime.datetime(2021, 6, 6, 16, 28, 38, 629553))\n",
      "(34155, '3b5d1ef836db07fc1a6373deaf812a99fa52a56bd45d0fb271fd4c019cf0f97d', 11, 'Bartosz Zmarzlik', '-', 'Jaimon Lidsey', '3', 'Jack Holder', '-', 'Emil Sayfutdinov', '2', datetime.datetime(2021, 6, 6, 16, 28, 39, 267147))\n",
      "(34156, '3b5d1ef836db07fc1a6373deaf812a99fa52a56bd45d0fb271fd4c019cf0f97d', 12, 'Dominik Kubera', '2', 'Rafał Karczmarz', '1', 'Bartosz Smektała', '3', 'Wiktor Jasiński', '0', datetime.datetime(2021, 6, 6, 16, 28, 39, 839339))\n",
      "(34157, '3b5d1ef836db07fc1a6373deaf812a99fa52a56bd45d0fb271fd4c019cf0f97d', 13, 'Anders Thomsen', '2', 'Dominik Kubera', '0', 'Szymon Woźniak', '3', 'Piotr Pawlicki', '1', datetime.datetime(2021, 6, 6, 16, 28, 40, 432846))\n",
      "(34158, '3b5d1ef836db07fc1a6373deaf812a99fa52a56bd45d0fb271fd4c019cf0f97d', 14, 'Kacper Pludra', '3', 'Anders Thomsen', '1', 'Piotr Pawlicki', '2', 'Wiktor Jasiński', '0', datetime.datetime(2021, 6, 6, 16, 28, 41, 49859))\n",
      "(34159, '3b5d1ef836db07fc1a6373deaf812a99fa52a56bd45d0fb271fd4c019cf0f97d', 15, 'Szymon Woźniak', '2', 'Szymon Szlauderbach', '1', 'Rafał Karczmarz', '0', 'Bartosz Smektała', '3', datetime.datetime(2021, 6, 6, 16, 28, 41, 597570))\n"
     ]
    }
   ],
   "source": [
    "for row in r.fetchall():\n",
    "    print(row)"
   ]
  },
  {
   "cell_type": "code",
   "execution_count": null,
   "metadata": {},
   "outputs": [],
   "source": []
  }
 ]
}