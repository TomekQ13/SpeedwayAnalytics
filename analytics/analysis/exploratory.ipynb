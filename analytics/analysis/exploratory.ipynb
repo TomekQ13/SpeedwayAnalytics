{
 "metadata": {
  "language_info": {
   "codemirror_mode": {
    "name": "ipython",
    "version": 3
   },
   "file_extension": ".py",
   "mimetype": "text/x-python",
   "name": "python",
   "nbconvert_exporter": "python",
   "pygments_lexer": "ipython3",
   "version": "3.8.6"
  },
  "orig_nbformat": 2,
  "kernelspec": {
   "name": "python3",
   "display_name": "Python 3.8.6 64-bit ('analytics-KSLE3GME': pipenv)"
  },
  "metadata": {
   "interpreter": {
    "hash": "655c00307b78496406504c897169407bd253798d34e9ff72d95b693eca45f119"
   }
  },
  "interpreter": {
   "hash": "85a747758cc6ad95466528c2486f2a4ae3bc0c68ece00f17c27f1b37f11cd527"
  }
 },
 "nbformat": 4,
 "nbformat_minor": 2,
 "cells": [
  {
   "cell_type": "code",
   "execution_count": 1,
   "metadata": {},
   "outputs": [
    {
     "output_type": "stream",
     "name": "stderr",
     "text": [
      "C:\\Users\\kucza\\.virtualenvs\\analytics-KSLE3GME\\lib\\site-packages\\pandas\\core\\frame.py:4308: SettingWithCopyWarning: \nA value is trying to be set on a copy of a slice from a DataFrame\n\nSee the caveats in the documentation: https://pandas.pydata.org/pandas-docs/stable/user_guide/indexing.html#returning-a-view-versus-a-copy\n  return super().drop(\n"
     ]
    }
   ],
   "source": [
    "from sqlalchemy import create_engine\n",
    "from config import Config\n",
    "from pandas import read_sql\n",
    "from transformers import BinaryEncoder, CityExtractor, ColDropper, XYTrainTestSplitter, PredictionTransformer, Scorer\n",
    "\n",
    "eng = create_engine(Config.DATABASE_URI)\n",
    "car_heat = read_sql(sql='select * from car_heat', con=eng)\n",
    "\n",
    "#drop columns which currently are not processed\n",
    "dropper = ColDropper()\n",
    "dropper.transform(data=car_heat, columns=['date', 'match_hash', 'heat_id'])\n",
    "\n",
    "#extract the time value so that it's a string and not python datetime object\n",
    "car_heat['time'] = [x.strftime(\"%H:%M\") for x in car_heat['time']]\n",
    "\n",
    "#remove club names and change them to only cities to account for clubs changing sponsors and names as a result\n",
    "c_ex = CityExtractor()\n",
    "c_ex.transform(car_heat)\n",
    "\n",
    "#create binary variables for categorical columns\n",
    "encoder = BinaryEncoder()\n",
    "cat_cols = ['a_rider', 'b_rider', 'c_rider', 'd_rider', 'stadium', 'round', 'year', 'time', 'name_team_home', 'name_team_away']\n",
    "encoder.fit_transform(data=car_heat, columns=cat_cols)\n",
    "\n",
    "#split into X, Y, test and train\n",
    "splitter = XYTrainTestSplitter()\n",
    "X_train, Y_train, X_test, Y_test = splitter.transform(data=car_heat, y_columns = ['a_score','b_score','c_score','d_score'])"
   ]
  },
  {
   "cell_type": "code",
   "execution_count": 2,
   "metadata": {},
   "outputs": [
    {
     "output_type": "execute_result",
     "data": {
      "text/plain": [
       "RandomForestRegressor()"
      ]
     },
     "metadata": {},
     "execution_count": 2
    }
   ],
   "source": [
    "from sklearn.ensemble import RandomForestRegressor\n",
    "rfr = RandomForestRegressor()\n",
    "rfr.fit(X_train, Y_train)"
   ]
  },
  {
   "cell_type": "code",
   "execution_count": 3,
   "metadata": {},
   "outputs": [],
   "source": [
    "pred = rfr.predict(X_test)"
   ]
  },
  {
   "cell_type": "code",
   "execution_count": 4,
   "metadata": {},
   "outputs": [],
   "source": [
    "pred_trans = PredictionTransformer()\n",
    "predictions = pred_trans.transform(pred)"
   ]
  },
  {
   "cell_type": "code",
   "execution_count": 5,
   "metadata": {},
   "outputs": [
    {
     "output_type": "execute_result",
     "data": {
      "text/plain": [
       "array([[2, 1, 0, 3],\n",
       "       [1, 2, 0, 3],\n",
       "       [3, 2, 0, 1],\n",
       "       ...,\n",
       "       [1, 3, 2, 0],\n",
       "       [1, 2, 0, 3],\n",
       "       [3, 0, 2, 1]])"
      ]
     },
     "metadata": {},
     "execution_count": 5
    }
   ],
   "source": [
    "predictions"
   ]
  },
  {
   "cell_type": "code",
   "execution_count": 6,
   "metadata": {},
   "outputs": [
    {
     "output_type": "execute_result",
     "data": {
      "text/plain": [
       "array([[2.2 , 0.89, 0.5 , 2.41],\n",
       "       [1.42, 1.49, 1.25, 1.83],\n",
       "       [2.41, 2.09, 0.61, 0.89],\n",
       "       ...,\n",
       "       [1.63, 1.78, 1.65, 0.92],\n",
       "       [0.82, 1.95, 0.54, 2.61],\n",
       "       [1.9 , 0.48, 1.85, 1.76]])"
      ]
     },
     "metadata": {},
     "execution_count": 6
    }
   ],
   "source": [
    "pred"
   ]
  }
 ]
}