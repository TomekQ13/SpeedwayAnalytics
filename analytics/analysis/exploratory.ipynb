{
 "metadata": {
  "language_info": {
   "codemirror_mode": {
    "name": "ipython",
    "version": 3
   },
   "file_extension": ".py",
   "mimetype": "text/x-python",
   "name": "python",
   "nbconvert_exporter": "python",
   "pygments_lexer": "ipython3",
   "version": "3.8.6"
  },
  "orig_nbformat": 2,
  "kernelspec": {
   "name": "python3",
   "display_name": "Python 3.8.6 64-bit ('analytics-KSLE3GME': pipenv)"
  },
  "metadata": {
   "interpreter": {
    "hash": "655c00307b78496406504c897169407bd253798d34e9ff72d95b693eca45f119"
   }
  },
  "interpreter": {
   "hash": "85a747758cc6ad95466528c2486f2a4ae3bc0c68ece00f17c27f1b37f11cd527"
  }
 },
 "nbformat": 4,
 "nbformat_minor": 2,
 "cells": [
  {
   "cell_type": "code",
   "execution_count": 1,
   "metadata": {},
   "outputs": [],
   "source": [
    "from sqlalchemy import create_engine\n",
    "from config import Config\n",
    "from pandas import read_sql\n",
    "from utils import BinaryEncoder\n",
    "import datetime"
   ]
  },
  {
   "cell_type": "code",
   "execution_count": 6,
   "metadata": {},
   "outputs": [],
   "source": [
    "eng = create_engine(Config.DATABASE_URI)\n",
    "car_heat = read_sql(sql='select * from car_heat', con=eng)\n",
    "car_heat['time'] = [x.strftime(\"%H:%M\") for x in car_heat['time']]\n",
    "encoder = BinaryEncoder()\n",
    "#cat_cols = ['a_rider', 'b_rider', 'c_rider', 'd_rider', 'stadium', 'round', 'year', 'time', 'name_team_home', 'name_team_away']\n",
    "#encoder.fit(data=car_heat, columns=cat_cols)"
   ]
  },
  {
   "cell_type": "code",
   "execution_count": 3,
   "metadata": {},
   "outputs": [],
   "source": [
    "encoder.load('test.txt')"
   ]
  },
  {
   "cell_type": "code",
   "execution_count": 4,
   "metadata": {},
   "outputs": [],
   "source": [
    "encoder.transform(data=car_heat)"
   ]
  },
  {
   "cell_type": "code",
   "execution_count": 3,
   "metadata": {},
   "outputs": [],
   "source": [
    "encoder.save('test.txt')"
   ]
  },
  {
   "cell_type": "code",
   "execution_count": 11,
   "metadata": {},
   "outputs": [
    {
     "output_type": "error",
     "ename": "AttributeError",
     "evalue": "'list' object has no attribute 'strftime'",
     "traceback": [
      "\u001b[1;31m---------------------------------------------------------------------------\u001b[0m",
      "\u001b[1;31mAttributeError\u001b[0m                            Traceback (most recent call last)",
      "\u001b[1;32m<ipython-input-11-7b4625513f6b>\u001b[0m in \u001b[0;36m<module>\u001b[1;34m\u001b[0m\n\u001b[1;32m----> 1\u001b[1;33m \u001b[0mencoder\u001b[0m\u001b[1;33m.\u001b[0m\u001b[0mcol_cats\u001b[0m\u001b[1;33m[\u001b[0m\u001b[1;34m'time'\u001b[0m\u001b[1;33m]\u001b[0m\u001b[1;33m.\u001b[0m\u001b[0mstrftime\u001b[0m\u001b[1;33m(\u001b[0m\u001b[1;34m\"%H:%M\"\u001b[0m\u001b[1;33m)\u001b[0m\u001b[1;33m\u001b[0m\u001b[1;33m\u001b[0m\u001b[0m\n\u001b[0m",
      "\u001b[1;31mAttributeError\u001b[0m: 'list' object has no attribute 'strftime'"
     ]
    }
   ],
   "source": [
    "encoder.col_cats['time'].strftime(\"%H:%M\")"
   ]
  },
  {
   "cell_type": "code",
   "execution_count": 12,
   "metadata": {},
   "outputs": [],
   "source": [
    "encoder.col_cats['time'] = [x.strftime(\"%H:%M\") for x in encoder.col_cats['time']]"
   ]
  },
  {
   "cell_type": "code",
   "execution_count": 4,
   "metadata": {},
   "outputs": [
    {
     "output_type": "execute_result",
     "data": {
      "text/plain": [
       "True"
      ]
     },
     "metadata": {},
     "execution_count": 4
    }
   ],
   "source": [
    "type(encoder.col_cats['time'][0]) == datetime.time"
   ]
  },
  {
   "cell_type": "code",
   "execution_count": 7,
   "metadata": {},
   "outputs": [
    {
     "output_type": "execute_result",
     "data": {
      "text/plain": [
       "       heat_id                                         match_hash  \\\n",
       "0        17097  d6864bb66eaa43e705792f455eab6cfe4392e7a445ce0c...   \n",
       "1        17099  d6864bb66eaa43e705792f455eab6cfe4392e7a445ce0c...   \n",
       "2        17100  d6864bb66eaa43e705792f455eab6cfe4392e7a445ce0c...   \n",
       "3        17102  d6864bb66eaa43e705792f455eab6cfe4392e7a445ce0c...   \n",
       "4        17103  d6864bb66eaa43e705792f455eab6cfe4392e7a445ce0c...   \n",
       "...        ...                                                ...   \n",
       "14982    34155  3b5d1ef836db07fc1a6373deaf812a99fa52a56bd45d0f...   \n",
       "14983    34156  3b5d1ef836db07fc1a6373deaf812a99fa52a56bd45d0f...   \n",
       "14984    34157  3b5d1ef836db07fc1a6373deaf812a99fa52a56bd45d0f...   \n",
       "14985    34158  3b5d1ef836db07fc1a6373deaf812a99fa52a56bd45d0f...   \n",
       "14986    34159  3b5d1ef836db07fc1a6373deaf812a99fa52a56bd45d0f...   \n",
       "\n",
       "       heat_number                 a_rider  a_score  a_previous_points  \\\n",
       "0                1     Marcin Jędrzejewski        1                  0   \n",
       "1                2  Niels Kristian Iversen        1                  0   \n",
       "2                3        Grzegorz Walasek        2                  0   \n",
       "3                4         Andreas Jonsson        1                  0   \n",
       "4                5       Zbigniew Suchecki        2                  0   \n",
       "...            ...                     ...      ...                ...   \n",
       "14982           11        Bartosz Zmarzlik        0                  3   \n",
       "14983           12          Dominik Kubera        2                  4   \n",
       "14984           13          Anders Thomsen        2                  2   \n",
       "14985           14           Kacper Pludra        3                  0   \n",
       "14986           15          Szymon Woźniak        2                  5   \n",
       "\n",
       "       a_previous_heats_no              b_rider  b_score  b_previous_points  \\\n",
       "0                        0     Grzegorz Zengota        0                  0   \n",
       "1                        0   Mariusz Staszewski        0                  0   \n",
       "2                        0     Rafał Okoniewski        3                  0   \n",
       "3                        0       Kevin Woelbert        0                  2   \n",
       "4                        1   Mariusz Staszewski        1                  0   \n",
       "...                    ...                  ...      ...                ...   \n",
       "14982                    4        Jaimon Lidsey        3                  4   \n",
       "14983                    2      Rafał Karczmarz        1                  7   \n",
       "14984                    3       Dominik Kubera        0                  6   \n",
       "14985                    0       Anders Thomsen        1                  4   \n",
       "14986                    4  Szymon Szlauderbach        1                  1   \n",
       "\n",
       "       ...  d_score d_previous_points  d_previous_heats_no  \\\n",
       "0      ...        2                 0                    0   \n",
       "1      ...        2                 3                    1   \n",
       "2      ...        1                 0                    0   \n",
       "3      ...        3                 0                    0   \n",
       "4      ...        0                 0                    0   \n",
       "...    ...      ...               ...                  ...   \n",
       "14982  ...        2                 9                    3   \n",
       "14983  ...        0                 0                    1   \n",
       "14984  ...        1                 8                    3   \n",
       "14985  ...        0                 0                    2   \n",
       "14986  ...        3                10                    4   \n",
       "\n",
       "                            stadium  round        date  year   time  \\\n",
       "0                 Swiss Krono Arena      1  2007-04-08  2007  16:00   \n",
       "1                 Swiss Krono Arena      1  2007-04-08  2007  16:00   \n",
       "2                 Swiss Krono Arena      1  2007-04-08  2007  16:00   \n",
       "3                 Swiss Krono Arena      1  2007-04-08  2007  16:00   \n",
       "4                 Swiss Krono Arena      1  2007-04-08  2007  16:00   \n",
       "...                             ...    ...         ...   ...    ...   \n",
       "14982  Stadion im. Alfreda Smoczyka     18  2020-10-11  2020  19:15   \n",
       "14983  Stadion im. Alfreda Smoczyka     18  2020-10-11  2020  19:15   \n",
       "14984  Stadion im. Alfreda Smoczyka     18  2020-10-11  2020  19:15   \n",
       "14985  Stadion im. Alfreda Smoczyka     18  2020-10-11  2020  19:15   \n",
       "14986  Stadion im. Alfreda Smoczyka     18  2020-10-11  2020  19:15   \n",
       "\n",
       "                  name_team_home            name_team_away  \n",
       "0      ZKŻ Kronopol Zielona Góra         Polonia Bydgoszcz  \n",
       "1      ZKŻ Kronopol Zielona Góra         Polonia Bydgoszcz  \n",
       "2      ZKŻ Kronopol Zielona Góra         Polonia Bydgoszcz  \n",
       "3      ZKŻ Kronopol Zielona Góra         Polonia Bydgoszcz  \n",
       "4      ZKŻ Kronopol Zielona Góra         Polonia Bydgoszcz  \n",
       "...                          ...                       ...  \n",
       "14982           FOGO UNIA Leszno  MOJE BERMUDY STAL Gorzów  \n",
       "14983           FOGO UNIA Leszno  MOJE BERMUDY STAL Gorzów  \n",
       "14984           FOGO UNIA Leszno  MOJE BERMUDY STAL Gorzów  \n",
       "14985           FOGO UNIA Leszno  MOJE BERMUDY STAL Gorzów  \n",
       "14986           FOGO UNIA Leszno  MOJE BERMUDY STAL Gorzów  \n",
       "\n",
       "[14987 rows x 26 columns]"
      ],
      "text/html": "<div>\n<style scoped>\n    .dataframe tbody tr th:only-of-type {\n        vertical-align: middle;\n    }\n\n    .dataframe tbody tr th {\n        vertical-align: top;\n    }\n\n    .dataframe thead th {\n        text-align: right;\n    }\n</style>\n<table border=\"1\" class=\"dataframe\">\n  <thead>\n    <tr style=\"text-align: right;\">\n      <th></th>\n      <th>heat_id</th>\n      <th>match_hash</th>\n      <th>heat_number</th>\n      <th>a_rider</th>\n      <th>a_score</th>\n      <th>a_previous_points</th>\n      <th>a_previous_heats_no</th>\n      <th>b_rider</th>\n      <th>b_score</th>\n      <th>b_previous_points</th>\n      <th>...</th>\n      <th>d_score</th>\n      <th>d_previous_points</th>\n      <th>d_previous_heats_no</th>\n      <th>stadium</th>\n      <th>round</th>\n      <th>date</th>\n      <th>year</th>\n      <th>time</th>\n      <th>name_team_home</th>\n      <th>name_team_away</th>\n    </tr>\n  </thead>\n  <tbody>\n    <tr>\n      <th>0</th>\n      <td>17097</td>\n      <td>d6864bb66eaa43e705792f455eab6cfe4392e7a445ce0c...</td>\n      <td>1</td>\n      <td>Marcin Jędrzejewski</td>\n      <td>1</td>\n      <td>0</td>\n      <td>0</td>\n      <td>Grzegorz Zengota</td>\n      <td>0</td>\n      <td>0</td>\n      <td>...</td>\n      <td>2</td>\n      <td>0</td>\n      <td>0</td>\n      <td>Swiss Krono Arena</td>\n      <td>1</td>\n      <td>2007-04-08</td>\n      <td>2007</td>\n      <td>16:00</td>\n      <td>ZKŻ Kronopol Zielona Góra</td>\n      <td>Polonia Bydgoszcz</td>\n    </tr>\n    <tr>\n      <th>1</th>\n      <td>17099</td>\n      <td>d6864bb66eaa43e705792f455eab6cfe4392e7a445ce0c...</td>\n      <td>2</td>\n      <td>Niels Kristian Iversen</td>\n      <td>1</td>\n      <td>0</td>\n      <td>0</td>\n      <td>Mariusz Staszewski</td>\n      <td>0</td>\n      <td>0</td>\n      <td>...</td>\n      <td>2</td>\n      <td>3</td>\n      <td>1</td>\n      <td>Swiss Krono Arena</td>\n      <td>1</td>\n      <td>2007-04-08</td>\n      <td>2007</td>\n      <td>16:00</td>\n      <td>ZKŻ Kronopol Zielona Góra</td>\n      <td>Polonia Bydgoszcz</td>\n    </tr>\n    <tr>\n      <th>2</th>\n      <td>17100</td>\n      <td>d6864bb66eaa43e705792f455eab6cfe4392e7a445ce0c...</td>\n      <td>3</td>\n      <td>Grzegorz Walasek</td>\n      <td>2</td>\n      <td>0</td>\n      <td>0</td>\n      <td>Rafał Okoniewski</td>\n      <td>3</td>\n      <td>0</td>\n      <td>...</td>\n      <td>1</td>\n      <td>0</td>\n      <td>0</td>\n      <td>Swiss Krono Arena</td>\n      <td>1</td>\n      <td>2007-04-08</td>\n      <td>2007</td>\n      <td>16:00</td>\n      <td>ZKŻ Kronopol Zielona Góra</td>\n      <td>Polonia Bydgoszcz</td>\n    </tr>\n    <tr>\n      <th>3</th>\n      <td>17102</td>\n      <td>d6864bb66eaa43e705792f455eab6cfe4392e7a445ce0c...</td>\n      <td>4</td>\n      <td>Andreas Jonsson</td>\n      <td>1</td>\n      <td>0</td>\n      <td>0</td>\n      <td>Kevin Woelbert</td>\n      <td>0</td>\n      <td>2</td>\n      <td>...</td>\n      <td>3</td>\n      <td>0</td>\n      <td>0</td>\n      <td>Swiss Krono Arena</td>\n      <td>1</td>\n      <td>2007-04-08</td>\n      <td>2007</td>\n      <td>16:00</td>\n      <td>ZKŻ Kronopol Zielona Góra</td>\n      <td>Polonia Bydgoszcz</td>\n    </tr>\n    <tr>\n      <th>4</th>\n      <td>17103</td>\n      <td>d6864bb66eaa43e705792f455eab6cfe4392e7a445ce0c...</td>\n      <td>5</td>\n      <td>Zbigniew Suchecki</td>\n      <td>2</td>\n      <td>0</td>\n      <td>1</td>\n      <td>Mariusz Staszewski</td>\n      <td>1</td>\n      <td>0</td>\n      <td>...</td>\n      <td>0</td>\n      <td>0</td>\n      <td>0</td>\n      <td>Swiss Krono Arena</td>\n      <td>1</td>\n      <td>2007-04-08</td>\n      <td>2007</td>\n      <td>16:00</td>\n      <td>ZKŻ Kronopol Zielona Góra</td>\n      <td>Polonia Bydgoszcz</td>\n    </tr>\n    <tr>\n      <th>...</th>\n      <td>...</td>\n      <td>...</td>\n      <td>...</td>\n      <td>...</td>\n      <td>...</td>\n      <td>...</td>\n      <td>...</td>\n      <td>...</td>\n      <td>...</td>\n      <td>...</td>\n      <td>...</td>\n      <td>...</td>\n      <td>...</td>\n      <td>...</td>\n      <td>...</td>\n      <td>...</td>\n      <td>...</td>\n      <td>...</td>\n      <td>...</td>\n      <td>...</td>\n      <td>...</td>\n    </tr>\n    <tr>\n      <th>14982</th>\n      <td>34155</td>\n      <td>3b5d1ef836db07fc1a6373deaf812a99fa52a56bd45d0f...</td>\n      <td>11</td>\n      <td>Bartosz Zmarzlik</td>\n      <td>0</td>\n      <td>3</td>\n      <td>4</td>\n      <td>Jaimon Lidsey</td>\n      <td>3</td>\n      <td>4</td>\n      <td>...</td>\n      <td>2</td>\n      <td>9</td>\n      <td>3</td>\n      <td>Stadion im. Alfreda Smoczyka</td>\n      <td>18</td>\n      <td>2020-10-11</td>\n      <td>2020</td>\n      <td>19:15</td>\n      <td>FOGO UNIA Leszno</td>\n      <td>MOJE BERMUDY STAL Gorzów</td>\n    </tr>\n    <tr>\n      <th>14983</th>\n      <td>34156</td>\n      <td>3b5d1ef836db07fc1a6373deaf812a99fa52a56bd45d0f...</td>\n      <td>12</td>\n      <td>Dominik Kubera</td>\n      <td>2</td>\n      <td>4</td>\n      <td>2</td>\n      <td>Rafał Karczmarz</td>\n      <td>1</td>\n      <td>7</td>\n      <td>...</td>\n      <td>0</td>\n      <td>0</td>\n      <td>1</td>\n      <td>Stadion im. Alfreda Smoczyka</td>\n      <td>18</td>\n      <td>2020-10-11</td>\n      <td>2020</td>\n      <td>19:15</td>\n      <td>FOGO UNIA Leszno</td>\n      <td>MOJE BERMUDY STAL Gorzów</td>\n    </tr>\n    <tr>\n      <th>14984</th>\n      <td>34157</td>\n      <td>3b5d1ef836db07fc1a6373deaf812a99fa52a56bd45d0f...</td>\n      <td>13</td>\n      <td>Anders Thomsen</td>\n      <td>2</td>\n      <td>2</td>\n      <td>3</td>\n      <td>Dominik Kubera</td>\n      <td>0</td>\n      <td>6</td>\n      <td>...</td>\n      <td>1</td>\n      <td>8</td>\n      <td>3</td>\n      <td>Stadion im. Alfreda Smoczyka</td>\n      <td>18</td>\n      <td>2020-10-11</td>\n      <td>2020</td>\n      <td>19:15</td>\n      <td>FOGO UNIA Leszno</td>\n      <td>MOJE BERMUDY STAL Gorzów</td>\n    </tr>\n    <tr>\n      <th>14985</th>\n      <td>34158</td>\n      <td>3b5d1ef836db07fc1a6373deaf812a99fa52a56bd45d0f...</td>\n      <td>14</td>\n      <td>Kacper Pludra</td>\n      <td>3</td>\n      <td>0</td>\n      <td>0</td>\n      <td>Anders Thomsen</td>\n      <td>1</td>\n      <td>4</td>\n      <td>...</td>\n      <td>0</td>\n      <td>0</td>\n      <td>2</td>\n      <td>Stadion im. Alfreda Smoczyka</td>\n      <td>18</td>\n      <td>2020-10-11</td>\n      <td>2020</td>\n      <td>19:15</td>\n      <td>FOGO UNIA Leszno</td>\n      <td>MOJE BERMUDY STAL Gorzów</td>\n    </tr>\n    <tr>\n      <th>14986</th>\n      <td>34159</td>\n      <td>3b5d1ef836db07fc1a6373deaf812a99fa52a56bd45d0f...</td>\n      <td>15</td>\n      <td>Szymon Woźniak</td>\n      <td>2</td>\n      <td>5</td>\n      <td>4</td>\n      <td>Szymon Szlauderbach</td>\n      <td>1</td>\n      <td>1</td>\n      <td>...</td>\n      <td>3</td>\n      <td>10</td>\n      <td>4</td>\n      <td>Stadion im. Alfreda Smoczyka</td>\n      <td>18</td>\n      <td>2020-10-11</td>\n      <td>2020</td>\n      <td>19:15</td>\n      <td>FOGO UNIA Leszno</td>\n      <td>MOJE BERMUDY STAL Gorzów</td>\n    </tr>\n  </tbody>\n</table>\n<p>14987 rows × 26 columns</p>\n</div>"
     },
     "metadata": {},
     "execution_count": 7
    }
   ],
   "source": [
    "car_heat"
   ]
  },
  {
   "cell_type": "code",
   "execution_count": 17,
   "metadata": {},
   "outputs": [
    {
     "output_type": "execute_result",
     "data": {
      "text/plain": [
       "['Polonia Bydgoszcz',\n",
       " 'Marma Polskie Folie Rzeszów',\n",
       " 'Atlas Wrocław',\n",
       " 'Unia Leszno SSA',\n",
       " 'Unibax Toruń',\n",
       " 'CKM Złomrex Włókniarz Częstochowa',\n",
       " 'Unia Tarnów ŻSSA',\n",
       " 'ZKŻ Kronopol Zielona Góra',\n",
       " 'Caelum Stal Gorzów',\n",
       " 'CKM Cognor Włókniarz Częstochowa',\n",
       " 'Lotos Wybrzeże Gdańsk',\n",
       " 'Unia Leszno',\n",
       " 'Falubaz Zielona Góra',\n",
       " 'BETARD Sparta Wrocław',\n",
       " 'CKM Włókniarz Częstochowa',\n",
       " 'Tauron Azoty Tarnów',\n",
       " 'Stelmet Falubaz Zielona Góra',\n",
       " 'PGE Marma Rzeszów',\n",
       " 'Dospel CKM Włókniarz Częstochowa',\n",
       " 'Azoty Tauron Tarnów',\n",
       " 'Stal Gorzów',\n",
       " 'Unia Tarnów',\n",
       " 'FOGO Unia Leszno',\n",
       " 'składywęgla.pl Polonia Bydgoszcz',\n",
       " 'Lechma Start Gniezno',\n",
       " 'Grupa Azoty Unia Tarnów',\n",
       " 'Kantoronline VIPERPRINT Włókniarz Częstochowa',\n",
       " 'SPAR Falubaz Zielona Góra',\n",
       " 'Renault Zdunek Wybrzeże Gdańsk',\n",
       " 'KS Toruń',\n",
       " 'MRGARDEN GKM Grudziądz',\n",
       " 'MONEYmakesMONEY.pl Stal Gorzów',\n",
       " 'PGE Stal Rzeszów',\n",
       " 'Get Well Toruń',\n",
       " 'Ekantor.pl Falubaz Zielona Góra',\n",
       " 'ROW Rybnik',\n",
       " 'CASH BROKER Stal Gorzów',\n",
       " 'Włókniarz Vitroszlif CrossFit Częstochowa',\n",
       " 'FOGO UNIA Leszno',\n",
       " 'forBET WŁÓKNIARZ Częstochowa',\n",
       " 'FALUBAZ Zielona Góra',\n",
       " 'GET WELL Toruń',\n",
       " 'GRUPA AZOTY UNIA Tarnów',\n",
       " 'BETARD SPARTA Wrocław',\n",
       " 'CASH BROKER STAL Gorzów',\n",
       " 'TRULY.WORK STAL Gorzów',\n",
       " 'SPEED CAR MOTOR Lublin',\n",
       " 'STELMET FALUBAZ Zielona Góra',\n",
       " 'Arged Malesa TŻ Ostrovia Ostrów Wlkp.',\n",
       " 'MOTOR Lublin',\n",
       " 'RM SOLAR FALUBAZ Zielona Góra',\n",
       " 'MOJE BERMUDY STAL Gorzów',\n",
       " 'ELTROX WŁÓKNIARZ Częstochowa',\n",
       " 'PGG ROW Rybnik']"
      ]
     },
     "metadata": {},
     "execution_count": 17
    }
   ],
   "source": [
    "car_heat.name_team_away.append(car_heat.name_team_home).unique().tolist()"
   ]
  },
  {
   "cell_type": "code",
   "execution_count": null,
   "metadata": {},
   "outputs": [],
   "source": [
    "cities = ['Bydgoszcz', 'Rzeszów', 'Wrocław', 'Leszno', 'Toruń', 'Częstochowa', 'Tarnów', 'Gorzów', 'Zielona Góra', 'Rybnik', 'Ostrów', 'Lublin', 'Grudziądz', 'Gdańsk', 'Gniezno']"
   ]
  },
  {
   "cell_type": "code",
   "execution_count": 26,
   "metadata": {},
   "outputs": [],
   "source": [
    "car_heat.loc[car_heat['name_team_home'].str.contains('Toruń'), 'name_team_home'] = 'abbb'"
   ]
  },
  {
   "cell_type": "code",
   "execution_count": null,
   "metadata": {},
   "outputs": [],
   "source": []
  }
 ]
}